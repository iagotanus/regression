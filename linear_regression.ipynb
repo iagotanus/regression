{
 "cells": [
  {
   "cell_type": "code",
   "execution_count": 1,
   "id": "1429ed4a",
   "metadata": {},
   "outputs": [],
   "source": [
    "import pandas as pd\n",
    "from sklearn.datasets import fetch_california_housing\n",
    "from sklearn.model_selection import train_test_split\n",
    "from sklearn.linear_model import LinearRegression\n",
    "from sklearn.preprocessing import StandardScaler\n",
    "from sklearn.metrics import mean_squared_error, mean_absolute_error, r2_score"
   ]
  },
  {
   "cell_type": "code",
   "execution_count": 2,
   "id": "5934ae94",
   "metadata": {},
   "outputs": [],
   "source": [
    "# 1. Carregar o dataset de regressão\n",
    "data = fetch_california_housing()\n",
    "X = pd.DataFrame(data.data, columns=data.feature_names)\n",
    "y = pd.Series(data.target)"
   ]
  },
  {
   "cell_type": "code",
   "execution_count": 3,
   "id": "1ab43de1",
   "metadata": {},
   "outputs": [
    {
     "name": "stdout",
     "output_type": "stream",
     "text": [
      "MSE (Erro Quadrático Médio): 0.5558915986952442\n",
      "MAE (Erro Absoluto Médio): 0.5332001304956565\n",
      "R² Score: 0.575787706032451\n"
     ]
    }
   ],
   "source": [
    "# 2. Padronizar os dados (opcional mas recomendado)\n",
    "scaler = StandardScaler()\n",
    "X_scaled = scaler.fit_transform(X)\n",
    "\n",
    "# 3. Separar em treino e teste\n",
    "X_train, X_test, y_train, y_test = train_test_split(X_scaled, y, test_size=0.2, random_state=42)\n",
    "\n",
    "# 4. Criar o modelo de regressão linear\n",
    "lr_model = LinearRegression()\n",
    "\n",
    "# 5. Treinar o modelo\n",
    "lr_model.fit(X_train, y_train)\n",
    "\n",
    "# 6. Avaliar o modelo\n",
    "y_pred = lr_model.predict(X_test)\n",
    "\n",
    "print(\"MSE (Erro Quadrático Médio):\", mean_squared_error(y_test, y_pred))\n",
    "print(\"MAE (Erro Absoluto Médio):\", mean_absolute_error(y_test, y_pred))\n",
    "print(\"R² Score:\", r2_score(y_test, y_pred))"
   ]
  }
 ],
 "metadata": {
  "kernelspec": {
   "display_name": "Python 3",
   "language": "python",
   "name": "python3"
  },
  "language_info": {
   "codemirror_mode": {
    "name": "ipython",
    "version": 3
   },
   "file_extension": ".py",
   "mimetype": "text/x-python",
   "name": "python",
   "nbconvert_exporter": "python",
   "pygments_lexer": "ipython3",
   "version": "3.12.1"
  }
 },
 "nbformat": 4,
 "nbformat_minor": 5
}
