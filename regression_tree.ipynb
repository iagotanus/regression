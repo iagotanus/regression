{
 "cells": [
  {
   "cell_type": "code",
   "execution_count": 1,
   "id": "95e2c7b3",
   "metadata": {},
   "outputs": [],
   "source": [
    "import pandas as pd\n",
    "from sklearn.datasets import fetch_california_housing\n",
    "from sklearn.model_selection import train_test_split\n",
    "from sklearn.tree import DecisionTreeRegressor\n",
    "from sklearn.preprocessing import StandardScaler\n",
    "from sklearn.metrics import mean_squared_error, r2_score"
   ]
  },
  {
   "cell_type": "code",
   "execution_count": 2,
   "id": "3f7a6d64",
   "metadata": {},
   "outputs": [],
   "source": [
    "# 1. Carregar e preparar o dataset\n",
    "data = fetch_california_housing()\n",
    "X = pd.DataFrame(data.data, columns=data.feature_names)\n",
    "y = pd.Series(data.target)"
   ]
  },
  {
   "cell_type": "code",
   "execution_count": 3,
   "id": "b212834e",
   "metadata": {},
   "outputs": [
    {
     "name": "stdout",
     "output_type": "stream",
     "text": [
      "MSE: 0.4960626988720705\n",
      "R²: 0.6214443680491355\n"
     ]
    }
   ],
   "source": [
    "# 2. Normalização não é necessária para árvores, mas manteremos para consistência\n",
    "scaler = StandardScaler()\n",
    "X_scaled = scaler.fit_transform(X)\n",
    "\n",
    "# 3. Dividir em treino e teste\n",
    "X_train, X_test, y_train, y_test = train_test_split(X_scaled, y, test_size=0.2, random_state=42)\n",
    "\n",
    "# 4. Criar e treinar o modelo de árvore de regressão\n",
    "tree_model = DecisionTreeRegressor(\n",
    "    criterion='squared_error',  # pode ser 'squared_error' (MSE), 'friedman_mse', 'absolute_error', etc.\n",
    "    max_depth=6,                # profundidade máxima da árvore\n",
    "    min_samples_split=4,        # mínimo de amostras para dividir um nó\n",
    "    min_samples_leaf=2,         # mínimo de amostras em uma folha\n",
    "    random_state=42\n",
    ")\n",
    "\n",
    "tree_model.fit(X_train, y_train)\n",
    "\n",
    "# 5. Avaliar o modelo\n",
    "y_pred = tree_model.predict(X_test)\n",
    "\n",
    "print(\"MSE:\", mean_squared_error(y_test, y_pred))\n",
    "print(\"R²:\", r2_score(y_test, y_pred))"
   ]
  }
 ],
 "metadata": {
  "kernelspec": {
   "display_name": "Python 3",
   "language": "python",
   "name": "python3"
  },
  "language_info": {
   "codemirror_mode": {
    "name": "ipython",
    "version": 3
   },
   "file_extension": ".py",
   "mimetype": "text/x-python",
   "name": "python",
   "nbconvert_exporter": "python",
   "pygments_lexer": "ipython3",
   "version": "3.12.1"
  }
 },
 "nbformat": 4,
 "nbformat_minor": 5
}
