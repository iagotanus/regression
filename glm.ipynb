{
 "cells": [
  {
   "cell_type": "code",
   "execution_count": 4,
   "id": "03215bdb",
   "metadata": {},
   "outputs": [],
   "source": [
    "import pandas as pd\n",
    "import statsmodels.api as sm\n",
    "from sklearn.datasets import fetch_california_housing\n",
    "from sklearn.model_selection import train_test_split\n",
    "from sklearn.preprocessing import StandardScaler\n",
    "from sklearn.metrics import mean_squared_error, r2_score"
   ]
  },
  {
   "cell_type": "code",
   "execution_count": 5,
   "id": "4db9f667",
   "metadata": {},
   "outputs": [],
   "source": [
    "# 1. Carregar dataset\n",
    "data = fetch_california_housing()\n",
    "X = pd.DataFrame(data.data, columns=data.feature_names)\n",
    "y = pd.Series(data.target)"
   ]
  },
  {
   "cell_type": "code",
   "execution_count": 6,
   "id": "b31b86b4",
   "metadata": {},
   "outputs": [
    {
     "name": "stderr",
     "output_type": "stream",
     "text": [
      "/usr/local/python/3.12.1/lib/python3.12/site-packages/statsmodels/genmod/families/links.py:13: FutureWarning: The identity link alias is deprecated. Use Identity instead. The identity link alias will be removed after the 0.15.0 release.\n",
      "  warnings.warn(\n"
     ]
    },
    {
     "name": "stdout",
     "output_type": "stream",
     "text": [
      "                 Generalized Linear Model Regression Results                  \n",
      "==============================================================================\n",
      "Dep. Variable:                      y   No. Observations:                16512\n",
      "Model:                            GLM   Df Residuals:                    16503\n",
      "Model Family:                Gaussian   Df Model:                            8\n",
      "Link Function:               identity   Scale:                         0.51822\n",
      "Method:                          IRLS   Log-Likelihood:                -17998.\n",
      "Date:                Fri, 01 Aug 2025   Deviance:                       8552.1\n",
      "Time:                        17:53:16   Pearson chi2:                 8.55e+03\n",
      "No. Iterations:                     3   Pseudo R-squ. (CS):             0.7941\n",
      "Covariance Type:            nonrobust                                         \n",
      "==============================================================================\n",
      "                 coef    std err          z      P>|z|      [0.025      0.975]\n",
      "------------------------------------------------------------------------------\n",
      "const          2.0719      0.006    369.848      0.000       2.061       2.083\n",
      "x1             0.8544      0.009     95.697      0.000       0.837       0.872\n",
      "x2             0.1225      0.006     19.665      0.000       0.110       0.135\n",
      "x3            -0.2944      0.016    -18.677      0.000      -0.325      -0.264\n",
      "x4             0.3393      0.014     23.556      0.000       0.311       0.367\n",
      "x5            -0.0023      0.006     -0.387      0.699      -0.014       0.009\n",
      "x6            -0.0408      0.006     -7.253      0.000      -0.052      -0.030\n",
      "x7            -0.8969      0.017    -52.767      0.000      -0.930      -0.864\n",
      "x8            -0.8698      0.017    -52.117      0.000      -0.903      -0.837\n",
      "==============================================================================\n",
      "MSE: 0.5558915986952438\n",
      "R²: 0.5757877060324512\n"
     ]
    }
   ],
   "source": [
    "# 2. Dividir em treino e teste\n",
    "X_train, X_test, y_train, y_test = train_test_split(X, y, test_size=0.2, random_state=42)\n",
    "\n",
    "# 3. Padronizar features (não obrigatório, mas recomendado)\n",
    "scaler = StandardScaler()\n",
    "X_train_scaled = scaler.fit_transform(X_train)\n",
    "X_test_scaled = scaler.transform(X_test)\n",
    "\n",
    "# 4. Adicionar intercepto (statsmodels não adiciona automaticamente)\n",
    "X_train_scaled = sm.add_constant(X_train_scaled)\n",
    "X_test_scaled = sm.add_constant(X_test_scaled)\n",
    "\n",
    "# 5. Definir e ajustar o modelo GLM (com família Gaussian, link identidade)\n",
    "glm_model = sm.GLM(y_train, X_train_scaled, family=sm.families.Gaussian(sm.families.links.identity()))\n",
    "glm_results = glm_model.fit()\n",
    "\n",
    "# 6. Previsão e avaliação\n",
    "y_pred = glm_results.predict(X_test_scaled)\n",
    "\n",
    "print(glm_results.summary())  # resumo do modelo\n",
    "\n",
    "print(\"MSE:\", mean_squared_error(y_test, y_pred))\n",
    "print(\"R²:\", r2_score(y_test, y_pred))"
   ]
  }
 ],
 "metadata": {
  "kernelspec": {
   "display_name": "Python 3",
   "language": "python",
   "name": "python3"
  },
  "language_info": {
   "codemirror_mode": {
    "name": "ipython",
    "version": 3
   },
   "file_extension": ".py",
   "mimetype": "text/x-python",
   "name": "python",
   "nbconvert_exporter": "python",
   "pygments_lexer": "ipython3",
   "version": "3.12.1"
  }
 },
 "nbformat": 4,
 "nbformat_minor": 5
}
